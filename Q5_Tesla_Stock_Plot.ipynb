{
 "cells": [
  {
   "cell_type": "code",
   "source": [
    "import matplotlib.pyplot as plt\n",
    "import pandas as pd\n",
    "import yfinance as yf\n",
    "tesla = yf.Ticker(\"TSLA\")\n",
    "tesla_data = tesla.history(period=\"max\")\n",
    "tesla_data.reset_index(inplace=True)\n",
    "def make_graph(stock_data, stock_name):\n",
    "    fig, ax1 = plt.subplots(figsize=(14, 6))\n",
    "    ax1.plot(stock_data.Date, stock_data.Close)\n",
    "    ax1.set_xlabel('Date')\n",
    "    ax1.set_ylabel('Closing Price (USD)', color='blue')\n",
    "    ax1.set_title(f\"{stock_name} Stock Price\")\n",
    "    plt.show()\n",
    "make_graph(tesla_data, 'Tesla')"
   ],
   "metadata": {}
  }
 ],
 "metadata": {},
 "nbformat": 4,
 "nbformat_minor": 5
}