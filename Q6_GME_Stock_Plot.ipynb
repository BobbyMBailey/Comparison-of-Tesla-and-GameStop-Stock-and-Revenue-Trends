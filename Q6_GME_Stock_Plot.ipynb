{
 "cells": [
  {
   "cell_type": "code",
   "source": [
    "import matplotlib.pyplot as plt\n",
    "import pandas as pd\n",
    "import yfinance as yf\n",
    "gme = yf.Ticker(\"GME\")\n",
    "gme_data = gme.history(period=\"max\")\n",
    "gme_data.reset_index(inplace=True)\n",
    "def make_graph(stock_data, stock_name):\n",
    "    fig, ax1 = plt.subplots(figsize=(14, 6))\n",
    "    ax1.plot(stock_data.Date, stock_data.Close)\n",
    "    ax1.set_xlabel('Date')\n",
    "    ax1.set_ylabel('Closing Price (USD)', color='blue')\n",
    "    ax1.set_title(f\"{stock_name} Stock Price\")\n",
    "    plt.show()\n",
    "make_graph(gme_data, 'GameStop')"
   ],
   "metadata": {}
  }
 ],
 "metadata": {},
 "nbformat": 4,
 "nbformat_minor": 5
}