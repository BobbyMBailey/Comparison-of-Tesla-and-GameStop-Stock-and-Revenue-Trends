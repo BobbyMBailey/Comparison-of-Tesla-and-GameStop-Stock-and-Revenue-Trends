{
 "cells": [
  {
   "cell_type": "code",
   "source": [
    "import requests\n",
    "from bs4 import BeautifulSoup\n",
    "import pandas as pd\n",
    "url = \"https://www.macrotrends.net/stocks/charts/TSLA/tesla/revenue\"\n",
    "html_data = requests.get(url).text\n",
    "soup = BeautifulSoup(html_data, \"html.parser\")\n",
    "tables = soup.find_all('table')\n",
    "tesla_revenue = pd.read_html(str(tables[1]))[0]\n",
    "tesla_revenue = tesla_revenue[tesla_revenue['Tesla Quarterly Revenue (Millions of US $)'] != '']\n",
    "tesla_revenue.columns = ['Date', 'Revenue']\n",
    "tesla_revenue.tail()"
   ],
   "metadata": {}
  }
 ],
 "metadata": {},
 "nbformat": 4,
 "nbformat_minor": 5
}